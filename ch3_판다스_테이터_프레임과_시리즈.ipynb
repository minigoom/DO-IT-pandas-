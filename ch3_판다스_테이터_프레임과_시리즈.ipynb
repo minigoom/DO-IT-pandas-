{
  "nbformat": 4,
  "nbformat_minor": 0,
  "metadata": {
    "colab": {
      "name": "ch3 판다스 테이터 프레임과 시리즈review.ipynb",
      "provenance": []
    },
    "kernelspec": {
      "name": "python3",
      "display_name": "Python 3"
    },
    "language_info": {
      "name": "python"
    }
  },
  "cells": [
    {
      "cell_type": "code",
      "execution_count": null,
      "metadata": {
        "id": "pYcQ77jnQw2r"
      },
      "outputs": [],
      "source": [
        ""
      ]
    },
    {
      "cell_type": "markdown",
      "source": [
        "데이터프레임과 시리즈는 리스트나 딕셔너리와 비슷하지만 데이터를 다루는데 더 특화되어 있습니다. 리스트와 딕셔너리는 많은 양의 데이터를 저장하거나 데이터를 조작할 수 있는 메서드가 많지 않습니다. 반면에 판다스의 데이터프레임과 시리즈는 많은 양의 데이터를 저장할 수 있을뿐만 아니라 스프레드시트 프로그램을 사용하는 것을 행과 열 단위로 원하는 데이터를 조작할 수 있는 다양한 속성과 베서드를 제공합니다. 그러면 데이터프레임과 시리즈에 대해 좀 자세히 알아보자"
      ],
      "metadata": {
        "id": "gQlPdzVPQ70H"
      }
    },
    {
      "cell_type": "markdown",
      "source": [
        "# 3.1 나만의 데이터 만들기"
      ],
      "metadata": {
        "id": "oxL7txZxSopD"
      }
    },
    {
      "cell_type": "code",
      "source": [
        "# 1. 시리즈 만들기"
      ],
      "metadata": {
        "id": "WIBt-IsSSmpE"
      },
      "execution_count": null,
      "outputs": []
    },
    {
      "cell_type": "code",
      "source": [
        "import pandas as pd\n",
        "s = pd.Series(['banana',42])\n",
        "print(s)"
      ],
      "metadata": {
        "colab": {
          "base_uri": "https://localhost:8080/"
        },
        "id": "oRqGxDU6Sr_d",
        "outputId": "349dc187-32c0-44cb-eb39-08a27ba5e1bf"
      },
      "execution_count": null,
      "outputs": [
        {
          "output_type": "stream",
          "name": "stdout",
          "text": [
            "0    banana\n",
            "1        42\n",
            "dtype: object\n"
          ]
        }
      ]
    },
    {
      "cell_type": "code",
      "source": [
        "# 2. 인덱스 변화시키기"
      ],
      "metadata": {
        "id": "XFEhtafnSzab"
      },
      "execution_count": null,
      "outputs": []
    },
    {
      "cell_type": "code",
      "source": [
        "s = pd.Series(['Wes Mckinney','Creator of pandas'])\n",
        "print(s)"
      ],
      "metadata": {
        "colab": {
          "base_uri": "https://localhost:8080/"
        },
        "id": "v1ECrh50S8WN",
        "outputId": "b22b9c75-5de0-4678-a0be-ee707d41bc83"
      },
      "execution_count": null,
      "outputs": [
        {
          "output_type": "stream",
          "name": "stdout",
          "text": [
            "0         Wes Mckinney\n",
            "1    Creator of pandas\n",
            "dtype: object\n"
          ]
        }
      ]
    },
    {
      "cell_type": "code",
      "source": [
        "s = pd.Series(['Wes Mckinney','Creator of pandas'], index=['person','who'])"
      ],
      "metadata": {
        "id": "tFdrcm8KTEM7"
      },
      "execution_count": null,
      "outputs": []
    },
    {
      "cell_type": "code",
      "source": [
        "print(s)"
      ],
      "metadata": {
        "colab": {
          "base_uri": "https://localhost:8080/"
        },
        "id": "oSn9wROlTMBy",
        "outputId": "6eb9838e-e30d-49af-b2ad-cede8433c3c2"
      },
      "execution_count": null,
      "outputs": [
        {
          "output_type": "stream",
          "name": "stdout",
          "text": [
            "person         Wes Mckinney\n",
            "who       Creator of pandas\n",
            "dtype: object\n"
          ]
        }
      ]
    },
    {
      "cell_type": "code",
      "source": [
        "# 3. 데이터프레임 만들기"
      ],
      "metadata": {
        "id": "K3RjSuA4TM3a"
      },
      "execution_count": null,
      "outputs": []
    },
    {
      "cell_type": "code",
      "source": [
        "scientists = pd.DataFrame({\n",
        "    'Name':['Rosaline Franklin','William Gosset'],\n",
        "    'Occupation':['Chemist','Statistician'],\n",
        "    'Born':['1920-07-25','1876-06013'],\n",
        "    'Died':[u'1958-04-16','1937-10-16'],\n",
        "    'Age':[37,61]\n",
        "})"
      ],
      "metadata": {
        "id": "RN_eoYlCTS-0"
      },
      "execution_count": null,
      "outputs": []
    },
    {
      "cell_type": "code",
      "source": [
        "print(scientists)"
      ],
      "metadata": {
        "colab": {
          "base_uri": "https://localhost:8080/"
        },
        "id": "dhpnUmkOT3NM",
        "outputId": "1453596d-a79c-4ad9-bd60-ccf5a615d9ae"
      },
      "execution_count": null,
      "outputs": [
        {
          "output_type": "stream",
          "name": "stdout",
          "text": [
            "                Name    Occupation        Born        Died  Age\n",
            "0  Rosaline Franklin       Chemist  1920-07-25  1958-04-16   37\n",
            "1     William Gosset  Statistician  1876-06013  1937-10-16   61\n"
          ]
        }
      ]
    },
    {
      "cell_type": "code",
      "source": [
        "# 4. 데이터프레임에서 index, columns 설정하기"
      ],
      "metadata": {
        "id": "ohuNN7yzT4Q6"
      },
      "execution_count": null,
      "outputs": []
    },
    {
      "cell_type": "code",
      "source": [
        "scientists = pd.DataFrame(\n",
        "    data = {'Occupation':['Chemist','Statistician'],\n",
        "    'Born':['1920-07-25','1876-06013'],\n",
        "    'Age':[37,61]},\n",
        "    index=['Rosaline Franklin','William Gosset'],\n",
        "    columns=['Occupation','Born','Age','Died']\n",
        ")"
      ],
      "metadata": {
        "id": "Jw93LNyHUGjt"
      },
      "execution_count": null,
      "outputs": []
    },
    {
      "cell_type": "code",
      "source": [
        "print(scientists)"
      ],
      "metadata": {
        "colab": {
          "base_uri": "https://localhost:8080/"
        },
        "id": "y8PbgP4JvR2V",
        "outputId": "a09c10fd-e9a8-4598-c6bd-0356d22e60c6"
      },
      "execution_count": null,
      "outputs": [
        {
          "output_type": "stream",
          "name": "stdout",
          "text": [
            "                     Occupation        Born  Age Died\n",
            "Rosaline Franklin       Chemist  1920-07-25   37  NaN\n",
            "William Gosset     Statistician  1876-06013   61  NaN\n"
          ]
        }
      ]
    },
    {
      "cell_type": "markdown",
      "source": [
        "# 3.2 시리즈 다루기- 기초"
      ],
      "metadata": {
        "id": "iqZY_-C7vbBz"
      }
    },
    {
      "cell_type": "code",
      "source": [
        "# 1. 데이터 준비"
      ],
      "metadata": {
        "id": "4Yu_FEvBviqq"
      },
      "execution_count": null,
      "outputs": []
    },
    {
      "cell_type": "code",
      "source": [
        "scientists = pd.DataFrame(\n",
        "    data = {'Occupation':['Chemist','Statistician'],\n",
        "    'Born':['1920-07-25','1876-06013'],\n",
        "    'Died':['1958-04-16','1937-10-16'],\n",
        "    'Age':[37,61]},\n",
        "    index=['Rosaline Franklin','William Gosset'],\n",
        "    columns=['Occupation','Born','Age','Died']\n",
        ")"
      ],
      "metadata": {
        "id": "C6IsIL8SvVTs"
      },
      "execution_count": null,
      "outputs": []
    },
    {
      "cell_type": "code",
      "source": [
        "# 2 - 시리즈 선택하기"
      ],
      "metadata": {
        "id": "uP3mjxyvvlP6"
      },
      "execution_count": null,
      "outputs": []
    },
    {
      "cell_type": "code",
      "source": [
        "first_row = scientists.loc['William Gosset']"
      ],
      "metadata": {
        "id": "BoVJraLkvlNG"
      },
      "execution_count": null,
      "outputs": []
    },
    {
      "cell_type": "code",
      "source": [
        "print(type(first_row))"
      ],
      "metadata": {
        "colab": {
          "base_uri": "https://localhost:8080/"
        },
        "id": "hsBqwMtHvlKS",
        "outputId": "93ca02b0-b1df-4f48-b12e-908b7e950439"
      },
      "execution_count": null,
      "outputs": [
        {
          "output_type": "stream",
          "name": "stdout",
          "text": [
            "<class 'pandas.core.series.Series'>\n"
          ]
        }
      ]
    },
    {
      "cell_type": "code",
      "source": [
        "print(first_row)"
      ],
      "metadata": {
        "colab": {
          "base_uri": "https://localhost:8080/"
        },
        "id": "sWrUPr-UvlDA",
        "outputId": "aedcf211-3cc3-4d98-f23a-fa6f5b93883a"
      },
      "execution_count": null,
      "outputs": [
        {
          "output_type": "stream",
          "name": "stdout",
          "text": [
            "Occupation    Statistician\n",
            "Born            1876-06013\n",
            "Age                     61\n",
            "Died            1937-10-16\n",
            "Name: William Gosset, dtype: object\n"
          ]
        }
      ]
    },
    {
      "cell_type": "code",
      "source": [
        "# - 인덱스 속성 사용하기\n",
        "print(first_row.index)"
      ],
      "metadata": {
        "colab": {
          "base_uri": "https://localhost:8080/"
        },
        "id": "sbqCD5DLv2W0",
        "outputId": "489cc046-8fdc-427c-a6e2-c9041ab4212f"
      },
      "execution_count": null,
      "outputs": [
        {
          "output_type": "stream",
          "name": "stdout",
          "text": [
            "Index(['Occupation', 'Born', 'Age', 'Died'], dtype='object')\n"
          ]
        }
      ]
    },
    {
      "cell_type": "code",
      "source": [
        "# - value \n",
        "print(first_row.values)"
      ],
      "metadata": {
        "colab": {
          "base_uri": "https://localhost:8080/"
        },
        "id": "tl6D_BQAwLbl",
        "outputId": "4d61e228-8b3a-4651-b444-d93347426f93"
      },
      "execution_count": null,
      "outputs": [
        {
          "output_type": "stream",
          "name": "stdout",
          "text": [
            "['Statistician' '1876-06013' 61 '1937-10-16']\n"
          ]
        }
      ]
    },
    {
      "cell_type": "code",
      "source": [
        "# - key\n",
        "print(first_row.keys())"
      ],
      "metadata": {
        "colab": {
          "base_uri": "https://localhost:8080/"
        },
        "id": "m6ALqXWpwNr0",
        "outputId": "89da5229-f459-432e-bac4-58d0cedd76ee"
      },
      "execution_count": null,
      "outputs": [
        {
          "output_type": "stream",
          "name": "stdout",
          "text": [
            "Index(['Occupation', 'Born', 'Age', 'Died'], dtype='object')\n"
          ]
        }
      ]
    },
    {
      "cell_type": "code",
      "source": [
        "print(first_row.keys()[0])"
      ],
      "metadata": {
        "colab": {
          "base_uri": "https://localhost:8080/"
        },
        "id": "wjX9l1pCwRs2",
        "outputId": "dba80a0e-6e26-42cb-9230-78a30ca5c186"
      },
      "execution_count": null,
      "outputs": [
        {
          "output_type": "stream",
          "name": "stdout",
          "text": [
            "Occupation\n"
          ]
        }
      ]
    },
    {
      "cell_type": "markdown",
      "source": [
        "## 시리즈의 기초통계 매서드 사용하기"
      ],
      "metadata": {
        "id": "Z4oYzBSlwfL3"
      }
    },
    {
      "cell_type": "code",
      "source": [
        "ages = scientists['Age']\n",
        "print(ages)"
      ],
      "metadata": {
        "colab": {
          "base_uri": "https://localhost:8080/"
        },
        "id": "OtOtI20iwWC8",
        "outputId": "c7beb9a7-306d-4658-fb5f-fa108976b2bb"
      },
      "execution_count": null,
      "outputs": [
        {
          "output_type": "stream",
          "name": "stdout",
          "text": [
            "Rosaline Franklin    37\n",
            "William Gosset       61\n",
            "Name: Age, dtype: int64\n"
          ]
        }
      ]
    },
    {
      "cell_type": "code",
      "source": [
        "print(ages.mean())"
      ],
      "metadata": {
        "colab": {
          "base_uri": "https://localhost:8080/"
        },
        "id": "8PtLQLQgwosl",
        "outputId": "793eca7a-88ac-4f4c-91cf-998a22f4bde7"
      },
      "execution_count": null,
      "outputs": [
        {
          "output_type": "stream",
          "name": "stdout",
          "text": [
            "49.0\n"
          ]
        }
      ]
    },
    {
      "cell_type": "code",
      "source": [
        "print(ages.min())"
      ],
      "metadata": {
        "colab": {
          "base_uri": "https://localhost:8080/"
        },
        "id": "bK8tmUfvwrPe",
        "outputId": "5bd9c0ca-6d8d-44d6-c3a4-e4610bd75db0"
      },
      "execution_count": null,
      "outputs": [
        {
          "output_type": "stream",
          "name": "stdout",
          "text": [
            "37\n"
          ]
        }
      ]
    },
    {
      "cell_type": "code",
      "source": [
        "print(ages.max())"
      ],
      "metadata": {
        "colab": {
          "base_uri": "https://localhost:8080/"
        },
        "id": "6FSQBnGHwvJd",
        "outputId": "e55a6b6e-6dbf-4b81-8c6f-b4c488b8fce4"
      },
      "execution_count": null,
      "outputs": [
        {
          "output_type": "stream",
          "name": "stdout",
          "text": [
            "61\n"
          ]
        }
      ]
    },
    {
      "cell_type": "code",
      "source": [
        "print(ages.std())"
      ],
      "metadata": {
        "colab": {
          "base_uri": "https://localhost:8080/"
        },
        "id": "oPw9nTCLwx1t",
        "outputId": "4abeb10d-ac07-45da-944b-c32fc4ea40af"
      },
      "execution_count": null,
      "outputs": [
        {
          "output_type": "stream",
          "name": "stdout",
          "text": [
            "16.97056274847714\n"
          ]
        }
      ]
    },
    {
      "cell_type": "markdown",
      "source": [
        "# 3.3 시리즈 다루기 - 응용"
      ],
      "metadata": {
        "id": "AZA2ExX2w1Vr"
      }
    },
    {
      "cell_type": "markdown",
      "source": [
        "## 시리즈와 불린 추출"
      ],
      "metadata": {
        "id": "BAz7IztFw6Qf"
      }
    },
    {
      "cell_type": "code",
      "source": [
        "scientists = pd.read_csv('/content/drive/MyDrive/do it pandas data/scientists.csv')"
      ],
      "metadata": {
        "id": "8ZatQ12vwzX1"
      },
      "execution_count": 42,
      "outputs": []
    },
    {
      "cell_type": "code",
      "source": [
        "print(scientists.head())"
      ],
      "metadata": {
        "colab": {
          "base_uri": "https://localhost:8080/"
        },
        "id": "BLu16goGxSJ2",
        "outputId": "57bb43c9-95d8-4a9e-aa76-52595c17cd16"
      },
      "execution_count": 43,
      "outputs": [
        {
          "output_type": "stream",
          "name": "stdout",
          "text": [
            "                   Name        Born        Died  Age    Occupation\n",
            "0     Rosaline Franklin  1920-07-25  1958-04-16   37       Chemist\n",
            "1        William Gosset  1876-06-13  1937-10-16   61  Statistician\n",
            "2  Florence Nightingale  1820-05-12  1910-08-13   90         Nurse\n",
            "3           Marie Curie  1867-11-07  1934-07-04   66       Chemist\n",
            "4         Rachel Carson  1907-05-27  1964-04-14   56     Biologist\n"
          ]
        }
      ]
    },
    {
      "cell_type": "code",
      "source": [
        "ages=scientists['Age']\n",
        "print(ages.max())\n",
        "print(ages.mean())\n",
        "print(ages.min())"
      ],
      "metadata": {
        "colab": {
          "base_uri": "https://localhost:8080/"
        },
        "id": "y1ZP8EcjxTpF",
        "outputId": "b8c05bf4-4240-430b-d9a2-c00ad0a0a8df"
      },
      "execution_count": 44,
      "outputs": [
        {
          "output_type": "stream",
          "name": "stdout",
          "text": [
            "90\n",
            "59.125\n",
            "37\n"
          ]
        }
      ]
    },
    {
      "cell_type": "code",
      "source": [
        "# 불린 추출\n",
        "print(ages[ages>ages.mean()])"
      ],
      "metadata": {
        "colab": {
          "base_uri": "https://localhost:8080/"
        },
        "id": "eEZ0apV8xeFO",
        "outputId": "c5a63827-5009-4f63-874e-605b8476d63b"
      },
      "execution_count": 45,
      "outputs": [
        {
          "output_type": "stream",
          "name": "stdout",
          "text": [
            "1    61\n",
            "2    90\n",
            "3    66\n",
            "7    77\n",
            "Name: Age, dtype: int64\n"
          ]
        }
      ]
    },
    {
      "cell_type": "code",
      "source": [
        "print(ages>ages.mean())"
      ],
      "metadata": {
        "colab": {
          "base_uri": "https://localhost:8080/"
        },
        "id": "m1-PcyTbyAiP",
        "outputId": "9833212d-b4b8-45e8-de11-7d7a2c18be59"
      },
      "execution_count": 46,
      "outputs": [
        {
          "output_type": "stream",
          "name": "stdout",
          "text": [
            "0    False\n",
            "1     True\n",
            "2     True\n",
            "3     True\n",
            "4    False\n",
            "5    False\n",
            "6    False\n",
            "7     True\n",
            "Name: Age, dtype: bool\n"
          ]
        }
      ]
    },
    {
      "cell_type": "markdown",
      "source": [
        "## 시리즈와 브로드캐스팅"
      ],
      "metadata": {
        "id": "lLECHx28yJK3"
      }
    },
    {
      "cell_type": "code",
      "source": [
        "print(ages+ages)"
      ],
      "metadata": {
        "colab": {
          "base_uri": "https://localhost:8080/"
        },
        "id": "XQXeyir3yFg-",
        "outputId": "79b947b4-5340-40c9-dadb-6c0e65f1c6c5"
      },
      "execution_count": 47,
      "outputs": [
        {
          "output_type": "stream",
          "name": "stdout",
          "text": [
            "0     74\n",
            "1    122\n",
            "2    180\n",
            "3    132\n",
            "4    112\n",
            "5     90\n",
            "6     82\n",
            "7    154\n",
            "Name: Age, dtype: int64\n"
          ]
        }
      ]
    },
    {
      "cell_type": "code",
      "source": [
        "print(ages*ages)"
      ],
      "metadata": {
        "colab": {
          "base_uri": "https://localhost:8080/"
        },
        "id": "qYDbiMIVyO75",
        "outputId": "ba77e2a5-d14a-48be-c9f2-284c4f2a4eed"
      },
      "execution_count": 48,
      "outputs": [
        {
          "output_type": "stream",
          "name": "stdout",
          "text": [
            "0    1369\n",
            "1    3721\n",
            "2    8100\n",
            "3    4356\n",
            "4    3136\n",
            "5    2025\n",
            "6    1681\n",
            "7    5929\n",
            "Name: Age, dtype: int64\n"
          ]
        }
      ]
    },
    {
      "cell_type": "code",
      "source": [
        "print(ages*100)"
      ],
      "metadata": {
        "colab": {
          "base_uri": "https://localhost:8080/"
        },
        "id": "H4o3aR6_yR3t",
        "outputId": "fd400480-a6f2-4725-9415-1f14e47ee037"
      },
      "execution_count": 49,
      "outputs": [
        {
          "output_type": "stream",
          "name": "stdout",
          "text": [
            "0    3700\n",
            "1    6100\n",
            "2    9000\n",
            "3    6600\n",
            "4    5600\n",
            "5    4500\n",
            "6    4100\n",
            "7    7700\n",
            "Name: Age, dtype: int64\n"
          ]
        }
      ]
    },
    {
      "cell_type": "code",
      "source": [
        "print(pd.Series([1,100]))"
      ],
      "metadata": {
        "colab": {
          "base_uri": "https://localhost:8080/"
        },
        "id": "E9OJiQm0yTL9",
        "outputId": "fa840ba5-9a0c-4d52-fe76-38a7488b3600"
      },
      "execution_count": 50,
      "outputs": [
        {
          "output_type": "stream",
          "name": "stdout",
          "text": [
            "0      1\n",
            "1    100\n",
            "dtype: int64\n"
          ]
        }
      ]
    },
    {
      "cell_type": "code",
      "source": [
        "print(ages+pd.Series([1,100]))"
      ],
      "metadata": {
        "colab": {
          "base_uri": "https://localhost:8080/"
        },
        "id": "TTpZweMxyaE-",
        "outputId": "49141d8f-e94b-41b2-a377-e539d8aeb4fa"
      },
      "execution_count": 51,
      "outputs": [
        {
          "output_type": "stream",
          "name": "stdout",
          "text": [
            "0     38.0\n",
            "1    161.0\n",
            "2      NaN\n",
            "3      NaN\n",
            "4      NaN\n",
            "5      NaN\n",
            "6      NaN\n",
            "7      NaN\n",
            "dtype: float64\n"
          ]
        }
      ]
    },
    {
      "cell_type": "code",
      "source": [
        "rev_ages = ages.sort_index(ascending=False)\n",
        "print(rev_ages)"
      ],
      "metadata": {
        "colab": {
          "base_uri": "https://localhost:8080/"
        },
        "id": "5yaf6YAKydul",
        "outputId": "524e31f3-ce3f-4fab-e4c2-17ea08b083a9"
      },
      "execution_count": 52,
      "outputs": [
        {
          "output_type": "stream",
          "name": "stdout",
          "text": [
            "7    77\n",
            "6    41\n",
            "5    45\n",
            "4    56\n",
            "3    66\n",
            "2    90\n",
            "1    61\n",
            "0    37\n",
            "Name: Age, dtype: int64\n"
          ]
        }
      ]
    },
    {
      "cell_type": "code",
      "source": [
        "print(ages+rev_ages)"
      ],
      "metadata": {
        "colab": {
          "base_uri": "https://localhost:8080/"
        },
        "id": "5-CODHGsyok1",
        "outputId": "c4ef1fe9-8560-4361-897e-3b20ad5000d9"
      },
      "execution_count": 53,
      "outputs": [
        {
          "output_type": "stream",
          "name": "stdout",
          "text": [
            "0     74\n",
            "1    122\n",
            "2    180\n",
            "3    132\n",
            "4    112\n",
            "5     90\n",
            "6     82\n",
            "7    154\n",
            "Name: Age, dtype: int64\n"
          ]
        }
      ]
    },
    {
      "cell_type": "markdown",
      "source": [
        "# 3.4 데이터프레임 다루기"
      ],
      "metadata": {
        "id": "nz1UgEZMyvdO"
      }
    },
    {
      "cell_type": "code",
      "source": [
        "# - 불린 추출하기"
      ],
      "metadata": {
        "id": "m9_HBDqYytwO"
      },
      "execution_count": 54,
      "outputs": []
    },
    {
      "cell_type": "code",
      "source": [
        "print(scientists[scientists['Age']>scientists['Age'].mean()])"
      ],
      "metadata": {
        "colab": {
          "base_uri": "https://localhost:8080/"
        },
        "id": "XtSWfCioy2tx",
        "outputId": "88d085a5-974a-4999-aa81-fe03fd949f8c"
      },
      "execution_count": 56,
      "outputs": [
        {
          "output_type": "stream",
          "name": "stdout",
          "text": [
            "                   Name        Born        Died  Age     Occupation\n",
            "1        William Gosset  1876-06-13  1937-10-16   61   Statistician\n",
            "2  Florence Nightingale  1820-05-12  1910-08-13   90          Nurse\n",
            "3           Marie Curie  1867-11-07  1934-07-04   66        Chemist\n",
            "7          Johann Gauss  1777-04-30  1855-02-23   77  Mathematician\n"
          ]
        }
      ]
    },
    {
      "cell_type": "markdown",
      "source": [
        "# 3.5 시리즈와 데이터프레임의 데이터 처리하기"
      ],
      "metadata": {
        "id": "FFD9lm6qz993"
      }
    },
    {
      "cell_type": "code",
      "source": [
        "# 1, 열의 자료형 바꾸기와 새로운 열 추가하기\n",
        "print(scientists['Born'].dtype)"
      ],
      "metadata": {
        "colab": {
          "base_uri": "https://localhost:8080/"
        },
        "id": "ebt2wNqHzQW3",
        "outputId": "4fe19b7d-7871-4912-967e-4bcb60d87e16"
      },
      "execution_count": 60,
      "outputs": [
        {
          "output_type": "stream",
          "name": "stdout",
          "text": [
            "object\n"
          ]
        }
      ]
    },
    {
      "cell_type": "code",
      "source": [
        "print(scientists['Died'].dtype)"
      ],
      "metadata": {
        "colab": {
          "base_uri": "https://localhost:8080/"
        },
        "id": "hyqc_v32zf6W",
        "outputId": "b563aca3-c7ff-4dbb-b188-7dcf98adafe9"
      },
      "execution_count": 61,
      "outputs": [
        {
          "output_type": "stream",
          "name": "stdout",
          "text": [
            "object\n"
          ]
        }
      ]
    },
    {
      "cell_type": "code",
      "source": [
        "born_datetime = pd.to_datetime(scientists['Born'], format='%Y-%m-%d')"
      ],
      "metadata": {
        "id": "Wmt3I-1f0LPG"
      },
      "execution_count": 62,
      "outputs": []
    },
    {
      "cell_type": "code",
      "source": [
        "print(born_datetime)"
      ],
      "metadata": {
        "colab": {
          "base_uri": "https://localhost:8080/"
        },
        "id": "Ies8Fudy0Y1O",
        "outputId": "cebd51d7-e6bf-4692-bfed-cbecca6ccd33"
      },
      "execution_count": 63,
      "outputs": [
        {
          "output_type": "stream",
          "name": "stdout",
          "text": [
            "0   1920-07-25\n",
            "1   1876-06-13\n",
            "2   1820-05-12\n",
            "3   1867-11-07\n",
            "4   1907-05-27\n",
            "5   1813-03-15\n",
            "6   1912-06-23\n",
            "7   1777-04-30\n",
            "Name: Born, dtype: datetime64[ns]\n"
          ]
        }
      ]
    },
    {
      "cell_type": "code",
      "source": [
        "died_datetime=pd.to_datetime(scientists['Died'], format='%Y-%m-%d')"
      ],
      "metadata": {
        "id": "DI26jDha0adO"
      },
      "execution_count": 64,
      "outputs": []
    },
    {
      "cell_type": "code",
      "source": [
        "print(died_datetime)"
      ],
      "metadata": {
        "colab": {
          "base_uri": "https://localhost:8080/"
        },
        "id": "doGngpbe0jlY",
        "outputId": "12f1f9d8-5317-4c52-c0d0-20873bcc2d2b"
      },
      "execution_count": 65,
      "outputs": [
        {
          "output_type": "stream",
          "name": "stdout",
          "text": [
            "0   1958-04-16\n",
            "1   1937-10-16\n",
            "2   1910-08-13\n",
            "3   1934-07-04\n",
            "4   1964-04-14\n",
            "5   1858-06-16\n",
            "6   1954-06-07\n",
            "7   1855-02-23\n",
            "Name: Died, dtype: datetime64[ns]\n"
          ]
        }
      ]
    },
    {
      "cell_type": "code",
      "source": [
        "scientists['born_dt'],scientists['died_dt'] = (born_datetime, died_datetime) # 새로운 행 추가하기\n",
        "print(scientists.head())"
      ],
      "metadata": {
        "colab": {
          "base_uri": "https://localhost:8080/"
        },
        "id": "JDh_GBK80lE-",
        "outputId": "19fc5448-ad98-410c-f49a-326f52eb497e"
      },
      "execution_count": 68,
      "outputs": [
        {
          "output_type": "stream",
          "name": "stdout",
          "text": [
            "                   Name        Born        Died  Age    Occupation    born_dt  \\\n",
            "0     Rosaline Franklin  1920-07-25  1958-04-16   37       Chemist 1920-07-25   \n",
            "1        William Gosset  1876-06-13  1937-10-16   61  Statistician 1876-06-13   \n",
            "2  Florence Nightingale  1820-05-12  1910-08-13   90         Nurse 1820-05-12   \n",
            "3           Marie Curie  1867-11-07  1934-07-04   66       Chemist 1867-11-07   \n",
            "4         Rachel Carson  1907-05-27  1964-04-14   56     Biologist 1907-05-27   \n",
            "\n",
            "     died_dt  \n",
            "0 1958-04-16  \n",
            "1 1937-10-16  \n",
            "2 1910-08-13  \n",
            "3 1934-07-04  \n",
            "4 1964-04-14  \n"
          ]
        }
      ]
    },
    {
      "cell_type": "code",
      "source": [
        "scientists['age_days_dt'] = (scientists['died_dt'] - scientists['born_dt'])\n",
        "print(scientists.head())"
      ],
      "metadata": {
        "colab": {
          "base_uri": "https://localhost:8080/"
        },
        "id": "XUw3-WCo00S3",
        "outputId": "c11e0657-b886-4b8d-a7c5-9f182b8a3ff9"
      },
      "execution_count": 70,
      "outputs": [
        {
          "output_type": "stream",
          "name": "stdout",
          "text": [
            "                   Name        Born        Died  Age    Occupation    born_dt  \\\n",
            "0     Rosaline Franklin  1920-07-25  1958-04-16   37       Chemist 1920-07-25   \n",
            "1        William Gosset  1876-06-13  1937-10-16   61  Statistician 1876-06-13   \n",
            "2  Florence Nightingale  1820-05-12  1910-08-13   90         Nurse 1820-05-12   \n",
            "3           Marie Curie  1867-11-07  1934-07-04   66       Chemist 1867-11-07   \n",
            "4         Rachel Carson  1907-05-27  1964-04-14   56     Biologist 1907-05-27   \n",
            "\n",
            "     died_dt age_days_dt  \n",
            "0 1958-04-16  13779 days  \n",
            "1 1937-10-16  22404 days  \n",
            "2 1910-08-13  32964 days  \n",
            "3 1934-07-04  24345 days  \n",
            "4 1964-04-14  20777 days  \n"
          ]
        }
      ]
    },
    {
      "cell_type": "code",
      "source": [
        "print(scientists['Age'])"
      ],
      "metadata": {
        "colab": {
          "base_uri": "https://localhost:8080/"
        },
        "id": "NjaVDIl21HK3",
        "outputId": "5523fbe0-216c-4dcb-defb-fa083805c850"
      },
      "execution_count": 71,
      "outputs": [
        {
          "output_type": "stream",
          "name": "stdout",
          "text": [
            "0    37\n",
            "1    61\n",
            "2    90\n",
            "3    66\n",
            "4    56\n",
            "5    45\n",
            "6    41\n",
            "7    77\n",
            "Name: Age, dtype: int64\n"
          ]
        }
      ]
    },
    {
      "cell_type": "code",
      "source": [
        "import random\n",
        "random.seed(42)\n",
        "random.shuffle(scientists['Age'])\n",
        "print(scientists['Age'])"
      ],
      "metadata": {
        "colab": {
          "base_uri": "https://localhost:8080/"
        },
        "id": "ijmgcmZs1Rt_",
        "outputId": "b94d9fe2-87ce-4377-8e0e-1a81a93d0dd1"
      },
      "execution_count": 72,
      "outputs": [
        {
          "output_type": "stream",
          "name": "stdout",
          "text": [
            "0    66\n",
            "1    56\n",
            "2    41\n",
            "3    77\n",
            "4    90\n",
            "5    45\n",
            "6    37\n",
            "7    61\n",
            "Name: Age, dtype: int64\n"
          ]
        },
        {
          "output_type": "stream",
          "name": "stderr",
          "text": [
            "/usr/lib/python3.7/random.py:278: SettingWithCopyWarning: \n",
            "A value is trying to be set on a copy of a slice from a DataFrame\n",
            "\n",
            "See the caveats in the documentation: https://pandas.pydata.org/pandas-docs/stable/user_guide/indexing.html#returning-a-view-versus-a-copy\n",
            "  x[i], x[j] = x[j], x[i]\n"
          ]
        }
      ]
    },
    {
      "cell_type": "code",
      "source": [
        "print(scientists.columns)"
      ],
      "metadata": {
        "colab": {
          "base_uri": "https://localhost:8080/"
        },
        "id": "d-2jJEGn1bfH",
        "outputId": "4f13e905-c1a2-4958-defd-094d15273db1"
      },
      "execution_count": 73,
      "outputs": [
        {
          "output_type": "stream",
          "name": "stdout",
          "text": [
            "Index(['Name', 'Born', 'Died', 'Age', 'Occupation', 'born_dt', 'died_dt',\n",
            "       'age_days_dt'],\n",
            "      dtype='object')\n"
          ]
        }
      ]
    },
    {
      "cell_type": "code",
      "source": [
        "scientists_dropped = scientists.drop(['Age'], axis=1)\n",
        "print(scientists_dropped)"
      ],
      "metadata": {
        "colab": {
          "base_uri": "https://localhost:8080/"
        },
        "id": "2EmWgJJO1f-A",
        "outputId": "93082679-3ab1-4d19-d554-6ad446da1331"
      },
      "execution_count": 75,
      "outputs": [
        {
          "output_type": "stream",
          "name": "stdout",
          "text": [
            "                   Name        Born        Died          Occupation  \\\n",
            "0     Rosaline Franklin  1920-07-25  1958-04-16             Chemist   \n",
            "1        William Gosset  1876-06-13  1937-10-16        Statistician   \n",
            "2  Florence Nightingale  1820-05-12  1910-08-13               Nurse   \n",
            "3           Marie Curie  1867-11-07  1934-07-04             Chemist   \n",
            "4         Rachel Carson  1907-05-27  1964-04-14           Biologist   \n",
            "5             John Snow  1813-03-15  1858-06-16           Physician   \n",
            "6           Alan Turing  1912-06-23  1954-06-07  Computer Scientist   \n",
            "7          Johann Gauss  1777-04-30  1855-02-23       Mathematician   \n",
            "\n",
            "     born_dt    died_dt age_days_dt  \n",
            "0 1920-07-25 1958-04-16  13779 days  \n",
            "1 1876-06-13 1937-10-16  22404 days  \n",
            "2 1820-05-12 1910-08-13  32964 days  \n",
            "3 1867-11-07 1934-07-04  24345 days  \n",
            "4 1907-05-27 1964-04-14  20777 days  \n",
            "5 1813-03-15 1858-06-16  16529 days  \n",
            "6 1912-06-23 1954-06-07  15324 days  \n",
            "7 1777-04-30 1855-02-23  28422 days  \n"
          ]
        }
      ]
    },
    {
      "cell_type": "markdown",
      "source": [
        "# 3.6 데이터 저장하고 불러오기"
      ],
      "metadata": {
        "id": "kFW0enEZ1u5v"
      }
    },
    {
      "cell_type": "code",
      "source": [
        "# - 피클로 저장하기\n",
        "names = scientists['Name']"
      ],
      "metadata": {
        "id": "MFAi1nMG1okA"
      },
      "execution_count": 76,
      "outputs": []
    },
    {
      "cell_type": "code",
      "source": [
        "names.to_pickle('/content/drive/MyDrive/pandas/scientists_name_series.pickle')"
      ],
      "metadata": {
        "id": "LdHd3byB11b_"
      },
      "execution_count": 78,
      "outputs": []
    },
    {
      "cell_type": "code",
      "source": [
        "scientists_name_from_pickle = pd.read_pickle('/content/drive/MyDrive/pandas/scientists_name_series.pickle')"
      ],
      "metadata": {
        "id": "FETh110A17f4"
      },
      "execution_count": 79,
      "outputs": []
    },
    {
      "cell_type": "code",
      "source": [
        "print(scientists_name_from_pickle)"
      ],
      "metadata": {
        "colab": {
          "base_uri": "https://localhost:8080/"
        },
        "id": "6C1Sjsiw2Ls2",
        "outputId": "6ae30a2b-80f7-4d2f-c777-50c809b83c12"
      },
      "execution_count": 80,
      "outputs": [
        {
          "output_type": "stream",
          "name": "stdout",
          "text": [
            "0       Rosaline Franklin\n",
            "1          William Gosset\n",
            "2    Florence Nightingale\n",
            "3             Marie Curie\n",
            "4           Rachel Carson\n",
            "5               John Snow\n",
            "6             Alan Turing\n",
            "7            Johann Gauss\n",
            "Name: Name, dtype: object\n"
          ]
        }
      ]
    },
    {
      "cell_type": "code",
      "source": [
        ""
      ],
      "metadata": {
        "id": "asCbWXQI2OU-"
      },
      "execution_count": null,
      "outputs": []
    }
  ]
}