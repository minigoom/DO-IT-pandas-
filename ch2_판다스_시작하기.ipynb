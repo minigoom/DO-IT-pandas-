{
  "nbformat": 4,
  "nbformat_minor": 0,
  "metadata": {
    "colab": {
      "name": "ch2 판다스 시작하기.ipynb",
      "provenance": [],
      "toc_visible": true
    },
    "kernelspec": {
      "name": "python3",
      "display_name": "Python 3"
    },
    "language_info": {
      "name": "python"
    }
  },
  "cells": [
    {
      "cell_type": "markdown",
      "source": [
        "판다스는 데이터프레임과 시리즈라는 자료형과 데이터 분석을 위한 다양한 기증을 제공하는 파이썬 라이브러리입니다. 또 판다스는 파이썬 언어만 사용할 줄 알아도 데이터분석을 바로 시작할 수 있을뿐 아니라 반복되는 데이터 분석 작업을 프로그램으로 만들어 쉽게 해결할 수 있다는 장점이 있습니다.   \n",
        "\n",
        "2장에서는 판다스의 기초 개념을 정리하고 실습을 해보자"
      ],
      "metadata": {
        "id": "EiaNAYtOlG03"
      }
    },
    {
      "cell_type": "markdown",
      "source": [
        "# 2.1 데이터 집합 불러오기"
      ],
      "metadata": {
        "id": "iNtuDlhgk7sG"
      }
    },
    {
      "cell_type": "markdown",
      "source": [
        "## 데이터 분석의 시작은 데이터 불러오기"
      ],
      "metadata": {
        "id": "WVyYljyTmeZX"
      }
    },
    {
      "cell_type": "code",
      "source": [
        "import pandas as pd"
      ],
      "metadata": {
        "id": "IkeZSF6cmHJG"
      },
      "execution_count": 2,
      "outputs": []
    },
    {
      "cell_type": "code",
      "source": [
        "df = pd.read_csv('/content/drive/MyDrive/do it pandas data/gapminder.tsv', sep='\\t')"
      ],
      "metadata": {
        "id": "5yRQMvSbmIgd"
      },
      "execution_count": 5,
      "outputs": []
    },
    {
      "cell_type": "markdown",
      "source": [
        "## 시리즈와 데이터프레임\n",
        "판다스에서 사용되는 자료형을 알아보자\n",
        "- 시리즈\n",
        "- 데이터프레임"
      ],
      "metadata": {
        "id": "a6wxO7ZymiFM"
      }
    },
    {
      "cell_type": "code",
      "source": [
        "print(df.head())"
      ],
      "metadata": {
        "colab": {
          "base_uri": "https://localhost:8080/"
        },
        "id": "Jn2FysgkmboU",
        "outputId": "8d0e38cc-a84e-4837-c475-4c675dd60f85"
      },
      "execution_count": 7,
      "outputs": [
        {
          "output_type": "stream",
          "name": "stdout",
          "text": [
            "       country continent  year  lifeExp       pop   gdpPercap\n",
            "0  Afghanistan      Asia  1952   28.801   8425333  779.445314\n",
            "1  Afghanistan      Asia  1957   30.332   9240934  820.853030\n",
            "2  Afghanistan      Asia  1962   31.997  10267083  853.100710\n",
            "3  Afghanistan      Asia  1967   34.020  11537966  836.197138\n",
            "4  Afghanistan      Asia  1972   36.088  13079460  739.981106\n"
          ]
        }
      ]
    },
    {
      "cell_type": "code",
      "source": [
        "# 데이터프레임 저장된값의 자료형 확인\n",
        "print(type(df))"
      ],
      "metadata": {
        "colab": {
          "base_uri": "https://localhost:8080/"
        },
        "id": "mvOy8I44msP1",
        "outputId": "6f59dedf-be34-4ab8-d1ad-48d00cc457fc"
      },
      "execution_count": 8,
      "outputs": [
        {
          "output_type": "stream",
          "name": "stdout",
          "text": [
            "<class 'pandas.core.frame.DataFrame'>\n"
          ]
        }
      ]
    },
    {
      "cell_type": "code",
      "source": [
        "# 데이터의 행과 열의 크기정보\n",
        "print(df.shape)"
      ],
      "metadata": {
        "colab": {
          "base_uri": "https://localhost:8080/"
        },
        "id": "rj7txpUsm6sN",
        "outputId": "782e0411-10c5-469f-b931-d7083cde4bd1"
      },
      "execution_count": 9,
      "outputs": [
        {
          "output_type": "stream",
          "name": "stdout",
          "text": [
            "(1704, 6)\n"
          ]
        }
      ]
    },
    {
      "cell_type": "code",
      "source": [
        "print(df.columns)"
      ],
      "metadata": {
        "colab": {
          "base_uri": "https://localhost:8080/"
        },
        "id": "97JsoAZ0m_ve",
        "outputId": "cc7bbbe2-9841-415b-eab9-336985226894"
      },
      "execution_count": 10,
      "outputs": [
        {
          "output_type": "stream",
          "name": "stdout",
          "text": [
            "Index(['country', 'continent', 'year', 'lifeExp', 'pop', 'gdpPercap'], dtype='object')\n"
          ]
        }
      ]
    },
    {
      "cell_type": "code",
      "source": [
        "print(df.dtypes)"
      ],
      "metadata": {
        "colab": {
          "base_uri": "https://localhost:8080/"
        },
        "id": "t83-IYrhnDME",
        "outputId": "be2bc59a-13b4-4e4e-cde2-a096f0fa0e85"
      },
      "execution_count": 11,
      "outputs": [
        {
          "output_type": "stream",
          "name": "stdout",
          "text": [
            "country       object\n",
            "continent     object\n",
            "year           int64\n",
            "lifeExp      float64\n",
            "pop            int64\n",
            "gdpPercap    float64\n",
            "dtype: object\n"
          ]
        }
      ]
    },
    {
      "cell_type": "code",
      "source": [
        "print(df.info())"
      ],
      "metadata": {
        "colab": {
          "base_uri": "https://localhost:8080/"
        },
        "id": "Ly8cUVfwnGQd",
        "outputId": "1354d405-35d2-42c9-d3e3-b60071035a7c"
      },
      "execution_count": 12,
      "outputs": [
        {
          "output_type": "stream",
          "name": "stdout",
          "text": [
            "<class 'pandas.core.frame.DataFrame'>\n",
            "RangeIndex: 1704 entries, 0 to 1703\n",
            "Data columns (total 6 columns):\n",
            " #   Column     Non-Null Count  Dtype  \n",
            "---  ------     --------------  -----  \n",
            " 0   country    1704 non-null   object \n",
            " 1   continent  1704 non-null   object \n",
            " 2   year       1704 non-null   int64  \n",
            " 3   lifeExp    1704 non-null   float64\n",
            " 4   pop        1704 non-null   int64  \n",
            " 5   gdpPercap  1704 non-null   float64\n",
            "dtypes: float64(2), int64(2), object(2)\n",
            "memory usage: 80.0+ KB\n",
            "None\n"
          ]
        }
      ]
    },
    {
      "cell_type": "markdown",
      "source": [
        "# 2.2 데이터 추출하기\n",
        "데이터를 열 단위로 추출하는 방법과 행 단위로 추출하는 방법을 알아보자!"
      ],
      "metadata": {
        "id": "PjrsVBzlnMHu"
      }
    },
    {
      "cell_type": "markdown",
      "source": [
        "## 열 단위로 데이터 추출하기"
      ],
      "metadata": {
        "id": "NvNQcqZungJF"
      }
    },
    {
      "cell_type": "code",
      "source": [
        "country_df = df['country']"
      ],
      "metadata": {
        "id": "P7FqZ7hhnH4l"
      },
      "execution_count": 13,
      "outputs": []
    },
    {
      "cell_type": "code",
      "source": [
        "print(type(country_df))"
      ],
      "metadata": {
        "colab": {
          "base_uri": "https://localhost:8080/"
        },
        "id": "IplaL7xOnn51",
        "outputId": "f9ecbcd5-df92-478c-b74b-827c4718467a"
      },
      "execution_count": 14,
      "outputs": [
        {
          "output_type": "stream",
          "name": "stdout",
          "text": [
            "<class 'pandas.core.series.Series'>\n"
          ]
        }
      ]
    },
    {
      "cell_type": "code",
      "source": [
        "print(country_df.head())"
      ],
      "metadata": {
        "colab": {
          "base_uri": "https://localhost:8080/"
        },
        "id": "SsHcvuTDnpVF",
        "outputId": "fb3457b0-ff55-4794-c626-e4e7c7f81bba"
      },
      "execution_count": 15,
      "outputs": [
        {
          "output_type": "stream",
          "name": "stdout",
          "text": [
            "0    Afghanistan\n",
            "1    Afghanistan\n",
            "2    Afghanistan\n",
            "3    Afghanistan\n",
            "4    Afghanistan\n",
            "Name: country, dtype: object\n"
          ]
        }
      ]
    },
    {
      "cell_type": "code",
      "source": [
        "print(country_df.tail())"
      ],
      "metadata": {
        "colab": {
          "base_uri": "https://localhost:8080/"
        },
        "id": "8NaUBgzcnskV",
        "outputId": "c8ab6b2b-d32b-4798-8e62-5762273d8eb2"
      },
      "execution_count": 16,
      "outputs": [
        {
          "output_type": "stream",
          "name": "stdout",
          "text": [
            "1699    Zimbabwe\n",
            "1700    Zimbabwe\n",
            "1701    Zimbabwe\n",
            "1702    Zimbabwe\n",
            "1703    Zimbabwe\n",
            "Name: country, dtype: object\n"
          ]
        }
      ]
    },
    {
      "cell_type": "code",
      "source": [
        "subset=df[['country','continent','year']]"
      ],
      "metadata": {
        "id": "Y9Ls7m5Bnyo-"
      },
      "execution_count": 19,
      "outputs": []
    },
    {
      "cell_type": "code",
      "source": [
        "print(type(subset))"
      ],
      "metadata": {
        "colab": {
          "base_uri": "https://localhost:8080/"
        },
        "id": "8wj9ef_apcv9",
        "outputId": "4070ea29-e6cf-4687-95ef-e70c6c59e857"
      },
      "execution_count": 21,
      "outputs": [
        {
          "output_type": "stream",
          "name": "stdout",
          "text": [
            "<class 'pandas.core.frame.DataFrame'>\n"
          ]
        }
      ]
    },
    {
      "cell_type": "code",
      "source": [
        "print(subset.info())"
      ],
      "metadata": {
        "colab": {
          "base_uri": "https://localhost:8080/"
        },
        "id": "m5buPWExpd_d",
        "outputId": "4fb39396-f921-4d23-aace-7adc3b94c722"
      },
      "execution_count": 23,
      "outputs": [
        {
          "output_type": "stream",
          "name": "stdout",
          "text": [
            "<class 'pandas.core.frame.DataFrame'>\n",
            "RangeIndex: 1704 entries, 0 to 1703\n",
            "Data columns (total 3 columns):\n",
            " #   Column     Non-Null Count  Dtype \n",
            "---  ------     --------------  ----- \n",
            " 0   country    1704 non-null   object\n",
            " 1   continent  1704 non-null   object\n",
            " 2   year       1704 non-null   int64 \n",
            "dtypes: int64(1), object(2)\n",
            "memory usage: 40.1+ KB\n",
            "None\n"
          ]
        }
      ]
    },
    {
      "cell_type": "code",
      "source": [
        "print(subset.head())\n",
        "print(subset.tail())"
      ],
      "metadata": {
        "colab": {
          "base_uri": "https://localhost:8080/"
        },
        "id": "NBzMCu8DpkO1",
        "outputId": "96d25a3c-674e-4421-a872-0a44a65d8622"
      },
      "execution_count": 24,
      "outputs": [
        {
          "output_type": "stream",
          "name": "stdout",
          "text": [
            "       country continent  year\n",
            "0  Afghanistan      Asia  1952\n",
            "1  Afghanistan      Asia  1957\n",
            "2  Afghanistan      Asia  1962\n",
            "3  Afghanistan      Asia  1967\n",
            "4  Afghanistan      Asia  1972\n",
            "       country continent  year\n",
            "1699  Zimbabwe    Africa  1987\n",
            "1700  Zimbabwe    Africa  1992\n",
            "1701  Zimbabwe    Africa  1997\n",
            "1702  Zimbabwe    Africa  2002\n",
            "1703  Zimbabwe    Africa  2007\n"
          ]
        }
      ]
    },
    {
      "cell_type": "markdown",
      "source": [
        "## 행 단위 데이터 추출하기\n",
        "- loc: 인덱스 기준으로 행 데이터 추출\n",
        "- iloc : 행번호 기준으로 데이터 추출"
      ],
      "metadata": {
        "id": "zEwD1gRqpw8g"
      }
    },
    {
      "cell_type": "markdown",
      "source": [
        "## 인덱스와 행 번화 개념 알아보기"
      ],
      "metadata": {
        "id": "KPMVZJbVqwpG"
      }
    },
    {
      "cell_type": "code",
      "source": [
        "print(df.head())\n",
        "# 0, 1, 2, 3 인덱스이다"
      ],
      "metadata": {
        "colab": {
          "base_uri": "https://localhost:8080/"
        },
        "id": "fV7tR5lopqQF",
        "outputId": "77714691-f699-44c5-9fa7-d049de95a003"
      },
      "execution_count": 26,
      "outputs": [
        {
          "output_type": "stream",
          "name": "stdout",
          "text": [
            "       country continent  year  lifeExp       pop   gdpPercap\n",
            "0  Afghanistan      Asia  1952   28.801   8425333  779.445314\n",
            "1  Afghanistan      Asia  1957   30.332   9240934  820.853030\n",
            "2  Afghanistan      Asia  1962   31.997  10267083  853.100710\n",
            "3  Afghanistan      Asia  1967   34.020  11537966  836.197138\n",
            "4  Afghanistan      Asia  1972   36.088  13079460  739.981106\n"
          ]
        }
      ]
    },
    {
      "cell_type": "code",
      "source": [
        "print(df.loc[0])"
      ],
      "metadata": {
        "colab": {
          "base_uri": "https://localhost:8080/"
        },
        "id": "8doalPfIq0IG",
        "outputId": "8e873407-0fe0-4932-9ef7-ee129e115022"
      },
      "execution_count": 27,
      "outputs": [
        {
          "output_type": "stream",
          "name": "stdout",
          "text": [
            "country      Afghanistan\n",
            "continent           Asia\n",
            "year                1952\n",
            "lifeExp           28.801\n",
            "pop              8425333\n",
            "gdpPercap     779.445314\n",
            "Name: 0, dtype: object\n"
          ]
        }
      ]
    },
    {
      "cell_type": "code",
      "source": [
        "print(df.loc[99])"
      ],
      "metadata": {
        "colab": {
          "base_uri": "https://localhost:8080/"
        },
        "id": "s807qt-Dq9t2",
        "outputId": "3708eabc-487d-46f5-9339-4afe95abe7ea"
      },
      "execution_count": 28,
      "outputs": [
        {
          "output_type": "stream",
          "name": "stdout",
          "text": [
            "country      Bangladesh\n",
            "continent          Asia\n",
            "year               1967\n",
            "lifeExp          43.453\n",
            "pop            62821884\n",
            "gdpPercap    721.186086\n",
            "Name: 99, dtype: object\n"
          ]
        }
      ]
    },
    {
      "cell_type": "code",
      "source": [
        "number_of_row = df.shape[0]\n",
        "last_row_index = number_of_row - 1\n",
        "print(df.loc[last_row_index])"
      ],
      "metadata": {
        "colab": {
          "base_uri": "https://localhost:8080/"
        },
        "id": "Tu7T_dFQrA49",
        "outputId": "f11afeab-cb96-4d24-ab62-3a8b4d308ed1"
      },
      "execution_count": 29,
      "outputs": [
        {
          "output_type": "stream",
          "name": "stdout",
          "text": [
            "country        Zimbabwe\n",
            "continent        Africa\n",
            "year               2007\n",
            "lifeExp          43.487\n",
            "pop            12311143\n",
            "gdpPercap    469.709298\n",
            "Name: 1703, dtype: object\n"
          ]
        }
      ]
    },
    {
      "cell_type": "code",
      "source": [
        "print(df.tail(n=1))"
      ],
      "metadata": {
        "colab": {
          "base_uri": "https://localhost:8080/"
        },
        "id": "gHVIGHf1rQjP",
        "outputId": "9740d3ee-b6ad-4c9d-e578-bed82e16d701"
      },
      "execution_count": 30,
      "outputs": [
        {
          "output_type": "stream",
          "name": "stdout",
          "text": [
            "       country continent  year  lifeExp       pop   gdpPercap\n",
            "1703  Zimbabwe    Africa  2007   43.487  12311143  469.709298\n"
          ]
        }
      ]
    },
    {
      "cell_type": "code",
      "source": [
        "print(df.loc[[0, 99, 999]])"
      ],
      "metadata": {
        "colab": {
          "base_uri": "https://localhost:8080/"
        },
        "id": "UFRe0vJ3rWWe",
        "outputId": "4f55b751-b458-4299-ca15-3e320f94b769"
      },
      "execution_count": 33,
      "outputs": [
        {
          "output_type": "stream",
          "name": "stdout",
          "text": [
            "         country continent  year  lifeExp       pop    gdpPercap\n",
            "0    Afghanistan      Asia  1952   28.801   8425333   779.445314\n",
            "99    Bangladesh      Asia  1967   43.453  62821884   721.186086\n",
            "999     Mongolia      Asia  1967   51.253   1149500  1226.041130\n"
          ]
        }
      ]
    },
    {
      "cell_type": "code",
      "source": [
        "print(df.iloc[1])"
      ],
      "metadata": {
        "colab": {
          "base_uri": "https://localhost:8080/"
        },
        "id": "Kjcx3cfDrY_m",
        "outputId": "444bac2b-4aaf-40ef-e1ef-df9c0bf3648b"
      },
      "execution_count": 34,
      "outputs": [
        {
          "output_type": "stream",
          "name": "stdout",
          "text": [
            "country      Afghanistan\n",
            "continent           Asia\n",
            "year                1957\n",
            "lifeExp           30.332\n",
            "pop              9240934\n",
            "gdpPercap      820.85303\n",
            "Name: 1, dtype: object\n"
          ]
        }
      ]
    },
    {
      "cell_type": "code",
      "source": [
        "print(df.iloc[99])"
      ],
      "metadata": {
        "colab": {
          "base_uri": "https://localhost:8080/"
        },
        "id": "Rj1JNfPYrp2P",
        "outputId": "26842c1c-7193-4d75-90b2-f8caffd9c7ec"
      },
      "execution_count": 35,
      "outputs": [
        {
          "output_type": "stream",
          "name": "stdout",
          "text": [
            "country      Bangladesh\n",
            "continent          Asia\n",
            "year               1967\n",
            "lifeExp          43.453\n",
            "pop            62821884\n",
            "gdpPercap    721.186086\n",
            "Name: 99, dtype: object\n"
          ]
        }
      ]
    },
    {
      "cell_type": "code",
      "source": [
        "print(df.iloc[-1])"
      ],
      "metadata": {
        "colab": {
          "base_uri": "https://localhost:8080/"
        },
        "id": "CbhWLam8rxzu",
        "outputId": "825b6d86-180f-4f21-a70a-85a16e50db54"
      },
      "execution_count": 36,
      "outputs": [
        {
          "output_type": "stream",
          "name": "stdout",
          "text": [
            "country        Zimbabwe\n",
            "continent        Africa\n",
            "year               2007\n",
            "lifeExp          43.487\n",
            "pop            12311143\n",
            "gdpPercap    469.709298\n",
            "Name: 1703, dtype: object\n"
          ]
        }
      ]
    },
    {
      "cell_type": "code",
      "source": [
        "print(df.iloc[[0,99,999]])"
      ],
      "metadata": {
        "colab": {
          "base_uri": "https://localhost:8080/"
        },
        "id": "52K6XLp2r5r2",
        "outputId": "dfcbe966-f0a4-46e3-c00a-29586691ca1e"
      },
      "execution_count": 37,
      "outputs": [
        {
          "output_type": "stream",
          "name": "stdout",
          "text": [
            "         country continent  year  lifeExp       pop    gdpPercap\n",
            "0    Afghanistan      Asia  1952   28.801   8425333   779.445314\n",
            "99    Bangladesh      Asia  1967   43.453  62821884   721.186086\n",
            "999     Mongolia      Asia  1967   51.253   1149500  1226.041130\n"
          ]
        }
      ]
    },
    {
      "cell_type": "code",
      "source": [
        "# 1. 슬라이싱 구문으로 데이터 추출하기\n",
        "subset = df.loc[:,['year','pop']]"
      ],
      "metadata": {
        "id": "X9JlTwEkr9l2"
      },
      "execution_count": 38,
      "outputs": []
    },
    {
      "cell_type": "code",
      "source": [
        "print(subset.head())"
      ],
      "metadata": {
        "colab": {
          "base_uri": "https://localhost:8080/"
        },
        "id": "6kbGs4xTsKZW",
        "outputId": "bcbeadce-ea34-4356-d094-3a7ad3243142"
      },
      "execution_count": 41,
      "outputs": [
        {
          "output_type": "stream",
          "name": "stdout",
          "text": [
            "   year       pop\n",
            "0  1952   8425333\n",
            "1  1957   9240934\n",
            "2  1962  10267083\n",
            "3  1967  11537966\n",
            "4  1972  13079460\n"
          ]
        }
      ]
    },
    {
      "cell_type": "code",
      "source": [
        "subset = df.iloc[:, [2,4,-1]]"
      ],
      "metadata": {
        "id": "bd9mbSm9sLk2"
      },
      "execution_count": 42,
      "outputs": []
    },
    {
      "cell_type": "code",
      "source": [
        "print(subset)"
      ],
      "metadata": {
        "colab": {
          "base_uri": "https://localhost:8080/"
        },
        "id": "ZKLioc17u6uA",
        "outputId": "04d50c30-b3d2-4253-a4c2-d910d67dcb6c"
      },
      "execution_count": 43,
      "outputs": [
        {
          "output_type": "stream",
          "name": "stdout",
          "text": [
            "      year       pop   gdpPercap\n",
            "0     1952   8425333  779.445314\n",
            "1     1957   9240934  820.853030\n",
            "2     1962  10267083  853.100710\n",
            "3     1967  11537966  836.197138\n",
            "4     1972  13079460  739.981106\n",
            "...    ...       ...         ...\n",
            "1699  1987   9216418  706.157306\n",
            "1700  1992  10704340  693.420786\n",
            "1701  1997  11404948  792.449960\n",
            "1702  2002  11926563  672.038623\n",
            "1703  2007  12311143  469.709298\n",
            "\n",
            "[1704 rows x 3 columns]\n"
          ]
        }
      ]
    },
    {
      "cell_type": "code",
      "source": [
        "# 2. range 매서드로 데이터 추출하기"
      ],
      "metadata": {
        "id": "_ozjJ6-nu73g"
      },
      "execution_count": 44,
      "outputs": []
    },
    {
      "cell_type": "code",
      "source": [
        "small_range = list(range(5))\n",
        "print(small_range)"
      ],
      "metadata": {
        "colab": {
          "base_uri": "https://localhost:8080/"
        },
        "id": "indCbS89vCRx",
        "outputId": "0a12d52c-50ec-4b22-c365-e8c157827972"
      },
      "execution_count": 47,
      "outputs": [
        {
          "output_type": "stream",
          "name": "stdout",
          "text": [
            "[0, 1, 2, 3, 4]\n"
          ]
        }
      ]
    },
    {
      "cell_type": "code",
      "source": [
        "print(type(small_range))"
      ],
      "metadata": {
        "colab": {
          "base_uri": "https://localhost:8080/"
        },
        "id": "f-P8-svHvOOn",
        "outputId": "802dedce-1ff8-48af-e3b3-c4d9334e2f5d"
      },
      "execution_count": 48,
      "outputs": [
        {
          "output_type": "stream",
          "name": "stdout",
          "text": [
            "<class 'list'>\n"
          ]
        }
      ]
    },
    {
      "cell_type": "code",
      "source": [
        "subset = df.iloc[:, small_range]"
      ],
      "metadata": {
        "id": "x88ZzzFlvQ1-"
      },
      "execution_count": 49,
      "outputs": []
    },
    {
      "cell_type": "code",
      "source": [
        "print(subset)"
      ],
      "metadata": {
        "colab": {
          "base_uri": "https://localhost:8080/"
        },
        "id": "3Aa_VJgdvYUG",
        "outputId": "27e7c7d5-dd5c-46a0-93b6-704daeb5b7b0"
      },
      "execution_count": 50,
      "outputs": [
        {
          "output_type": "stream",
          "name": "stdout",
          "text": [
            "          country continent  year  lifeExp       pop\n",
            "0     Afghanistan      Asia  1952   28.801   8425333\n",
            "1     Afghanistan      Asia  1957   30.332   9240934\n",
            "2     Afghanistan      Asia  1962   31.997  10267083\n",
            "3     Afghanistan      Asia  1967   34.020  11537966\n",
            "4     Afghanistan      Asia  1972   36.088  13079460\n",
            "...           ...       ...   ...      ...       ...\n",
            "1699     Zimbabwe    Africa  1987   62.351   9216418\n",
            "1700     Zimbabwe    Africa  1992   60.377  10704340\n",
            "1701     Zimbabwe    Africa  1997   46.809  11404948\n",
            "1702     Zimbabwe    Africa  2002   39.989  11926563\n",
            "1703     Zimbabwe    Africa  2007   43.487  12311143\n",
            "\n",
            "[1704 rows x 5 columns]\n"
          ]
        }
      ]
    },
    {
      "cell_type": "code",
      "source": [
        "small_range = list(range(3,6))\n",
        "print(small_range)"
      ],
      "metadata": {
        "colab": {
          "base_uri": "https://localhost:8080/"
        },
        "id": "Ck60HTXcvZIP",
        "outputId": "a467d816-46ce-4e8b-eae4-67f96c66cd3f"
      },
      "execution_count": 52,
      "outputs": [
        {
          "output_type": "stream",
          "name": "stdout",
          "text": [
            "[3, 4, 5]\n"
          ]
        }
      ]
    },
    {
      "cell_type": "code",
      "source": [
        "subset = df.iloc[:, small_range]\n",
        "print(subset)"
      ],
      "metadata": {
        "colab": {
          "base_uri": "https://localhost:8080/"
        },
        "id": "fEqT88AivfKo",
        "outputId": "70c8a5ef-8956-4315-971b-48403955e1a0"
      },
      "execution_count": 54,
      "outputs": [
        {
          "output_type": "stream",
          "name": "stdout",
          "text": [
            "      lifeExp       pop   gdpPercap\n",
            "0      28.801   8425333  779.445314\n",
            "1      30.332   9240934  820.853030\n",
            "2      31.997  10267083  853.100710\n",
            "3      34.020  11537966  836.197138\n",
            "4      36.088  13079460  739.981106\n",
            "...       ...       ...         ...\n",
            "1699   62.351   9216418  706.157306\n",
            "1700   60.377  10704340  693.420786\n",
            "1701   46.809  11404948  792.449960\n",
            "1702   39.989  11926563  672.038623\n",
            "1703   43.487  12311143  469.709298\n",
            "\n",
            "[1704 rows x 3 columns]\n"
          ]
        }
      ]
    },
    {
      "cell_type": "code",
      "source": [
        "# 3. range 자세히 알아보기"
      ],
      "metadata": {
        "id": "cCVk9-zav-na"
      },
      "execution_count": 57,
      "outputs": []
    },
    {
      "cell_type": "code",
      "source": [
        "small_range = list(range(0,6,2))\n",
        "subset = df.iloc[:, small_range]"
      ],
      "metadata": {
        "id": "_rjHrEwRvlEo"
      },
      "execution_count": 55,
      "outputs": []
    },
    {
      "cell_type": "code",
      "source": [
        "print(subset.head())"
      ],
      "metadata": {
        "colab": {
          "base_uri": "https://localhost:8080/"
        },
        "id": "nOAnEDnlv2aR",
        "outputId": "d45b3745-3a2e-4586-d0ca-0a5f651ad921"
      },
      "execution_count": 56,
      "outputs": [
        {
          "output_type": "stream",
          "name": "stdout",
          "text": [
            "       country  year       pop\n",
            "0  Afghanistan  1952   8425333\n",
            "1  Afghanistan  1957   9240934\n",
            "2  Afghanistan  1962  10267083\n",
            "3  Afghanistan  1967  11537966\n",
            "4  Afghanistan  1972  13079460\n"
          ]
        }
      ]
    },
    {
      "cell_type": "code",
      "source": [
        "# 4. 슬라이싱 구문과  range 매서드 비교하기"
      ],
      "metadata": {
        "id": "2V2rP1k0v4OY"
      },
      "execution_count": 58,
      "outputs": []
    },
    {
      "cell_type": "code",
      "source": [
        "subset = df.iloc[:,:3]\n",
        "print(subset.head())"
      ],
      "metadata": {
        "colab": {
          "base_uri": "https://localhost:8080/"
        },
        "id": "Dv2SuOVLwDD6",
        "outputId": "14169b22-ccff-42c0-d9a2-3ec55541edae"
      },
      "execution_count": 59,
      "outputs": [
        {
          "output_type": "stream",
          "name": "stdout",
          "text": [
            "       country continent  year\n",
            "0  Afghanistan      Asia  1952\n",
            "1  Afghanistan      Asia  1957\n",
            "2  Afghanistan      Asia  1962\n",
            "3  Afghanistan      Asia  1967\n",
            "4  Afghanistan      Asia  1972\n"
          ]
        }
      ]
    },
    {
      "cell_type": "code",
      "source": [
        "# 5. 0:6:2 열 지정값에 전달"
      ],
      "metadata": {
        "id": "ZrE-QfAOwJBw"
      },
      "execution_count": 60,
      "outputs": []
    },
    {
      "cell_type": "code",
      "source": [
        "subset = df.iloc[:, 0:6:2]\n",
        "print(subset.head())"
      ],
      "metadata": {
        "colab": {
          "base_uri": "https://localhost:8080/"
        },
        "id": "pfoTk64bwQ2q",
        "outputId": "81a7beae-be6e-4748-d81b-933a6bf3cec1"
      },
      "execution_count": 61,
      "outputs": [
        {
          "output_type": "stream",
          "name": "stdout",
          "text": [
            "       country  year       pop\n",
            "0  Afghanistan  1952   8425333\n",
            "1  Afghanistan  1957   9240934\n",
            "2  Afghanistan  1962  10267083\n",
            "3  Afghanistan  1967  11537966\n",
            "4  Afghanistan  1972  13079460\n"
          ]
        }
      ]
    },
    {
      "cell_type": "code",
      "source": [
        "# 6. loc, iloc 속성 자유롭게 사용하기"
      ],
      "metadata": {
        "id": "solcZ3kmwWIn"
      },
      "execution_count": 62,
      "outputs": []
    },
    {
      "cell_type": "code",
      "source": [
        "print(df.iloc[[0,99,999],[0,3,5]])"
      ],
      "metadata": {
        "colab": {
          "base_uri": "https://localhost:8080/"
        },
        "id": "iImpAjoOwbWB",
        "outputId": "06081bf9-2b5a-4519-fd57-95f84bb1aa92"
      },
      "execution_count": 64,
      "outputs": [
        {
          "output_type": "stream",
          "name": "stdout",
          "text": [
            "         country  lifeExp    gdpPercap\n",
            "0    Afghanistan   28.801   779.445314\n",
            "99    Bangladesh   43.453   721.186086\n",
            "999     Mongolia   51.253  1226.041130\n"
          ]
        }
      ]
    },
    {
      "cell_type": "code",
      "source": [
        "print(df.loc[[0,99,999],['country','lifeExp','gdpPercap']])"
      ],
      "metadata": {
        "colab": {
          "base_uri": "https://localhost:8080/"
        },
        "id": "5fRrOlSPwfSQ",
        "outputId": "983ca873-0720-46f5-ad6b-73939d88a909"
      },
      "execution_count": 67,
      "outputs": [
        {
          "output_type": "stream",
          "name": "stdout",
          "text": [
            "         country  lifeExp    gdpPercap\n",
            "0    Afghanistan   28.801   779.445314\n",
            "99    Bangladesh   43.453   721.186086\n",
            "999     Mongolia   51.253  1226.041130\n"
          ]
        }
      ]
    },
    {
      "cell_type": "code",
      "source": [
        "print(df.loc[10:13,['country','lifeExp','gdpPercap']])"
      ],
      "metadata": {
        "colab": {
          "base_uri": "https://localhost:8080/"
        },
        "id": "u_3zM-byxD5P",
        "outputId": "f64a50be-2fc2-4f6a-ff7b-620e2def245a"
      },
      "execution_count": 71,
      "outputs": [
        {
          "output_type": "stream",
          "name": "stdout",
          "text": [
            "        country  lifeExp    gdpPercap\n",
            "10  Afghanistan   42.129   726.734055\n",
            "11  Afghanistan   43.828   974.580338\n",
            "12      Albania   55.230  1601.056136\n",
            "13      Albania   59.280  1942.284244\n"
          ]
        }
      ]
    },
    {
      "cell_type": "markdown",
      "source": [
        "# 2.3 기초적인 통계 계산하기"
      ],
      "metadata": {
        "id": "-TbFP1dixbDR"
      }
    },
    {
      "cell_type": "code",
      "source": [
        "# 1.lifeExp 열을 연도별로 그룹화하여 평균 계산하기"
      ],
      "metadata": {
        "id": "uzDgK4R_xWyr"
      },
      "execution_count": 72,
      "outputs": []
    },
    {
      "cell_type": "code",
      "source": [
        "print(df.groupby('year')['lifeExp'].mean())"
      ],
      "metadata": {
        "colab": {
          "base_uri": "https://localhost:8080/"
        },
        "id": "DtZL0urWzW3E",
        "outputId": "839b0a2f-5f01-48ec-f192-ea19476b1a25"
      },
      "execution_count": 73,
      "outputs": [
        {
          "output_type": "stream",
          "name": "stdout",
          "text": [
            "year\n",
            "1952    49.057620\n",
            "1957    51.507401\n",
            "1962    53.609249\n",
            "1967    55.678290\n",
            "1972    57.647386\n",
            "1977    59.570157\n",
            "1982    61.533197\n",
            "1987    63.212613\n",
            "1992    64.160338\n",
            "1997    65.014676\n",
            "2002    65.694923\n",
            "2007    67.007423\n",
            "Name: lifeExp, dtype: float64\n"
          ]
        }
      ]
    },
    {
      "cell_type": "code",
      "source": [
        "# 과정2, 과정 3"
      ],
      "metadata": {
        "id": "Rs7gHgvG0Ep5"
      },
      "execution_count": 77,
      "outputs": []
    },
    {
      "cell_type": "code",
      "source": [
        "grouped_year_df = df.groupby('year')\n",
        "print(grouped_year_df) # 메모리의 저장된 위치를 알 수있다.\n",
        "print(type(grouped_year_df))"
      ],
      "metadata": {
        "colab": {
          "base_uri": "https://localhost:8080/"
        },
        "id": "T1YJ56sSzjRB",
        "outputId": "8fd35c63-17a1-48ac-bc14-9ec03c0ade91"
      },
      "execution_count": 76,
      "outputs": [
        {
          "output_type": "stream",
          "name": "stdout",
          "text": [
            "<pandas.core.groupby.generic.DataFrameGroupBy object at 0x7fa936ebf2d0>\n",
            "<class 'pandas.core.groupby.generic.DataFrameGroupBy'>\n"
          ]
        }
      ]
    },
    {
      "cell_type": "code",
      "source": [
        "# 과정 4"
      ],
      "metadata": {
        "id": "kjlnNWSCzqzx"
      },
      "execution_count": 78,
      "outputs": []
    },
    {
      "cell_type": "code",
      "source": [
        "grouped_year_df_lifeExp = grouped_year_df['lifeExp']\n",
        "print(type(grouped_year_df_lifeExp))"
      ],
      "metadata": {
        "colab": {
          "base_uri": "https://localhost:8080/"
        },
        "id": "99T5WU8P0JW5",
        "outputId": "174230a3-b51c-424b-834a-273103148ce3"
      },
      "execution_count": 79,
      "outputs": [
        {
          "output_type": "stream",
          "name": "stdout",
          "text": [
            "<class 'pandas.core.groupby.generic.SeriesGroupBy'>\n"
          ]
        }
      ]
    },
    {
      "cell_type": "code",
      "source": [
        "# 5. 그룹화하기"
      ],
      "metadata": {
        "id": "pCbrx2H11SSr"
      },
      "execution_count": 84,
      "outputs": []
    },
    {
      "cell_type": "code",
      "source": [
        "mean_lifeExp_by_year = grouped_year_df_lifeExp.mean()"
      ],
      "metadata": {
        "id": "gDEzTls40sFS"
      },
      "execution_count": 80,
      "outputs": []
    },
    {
      "cell_type": "code",
      "source": [
        "print(mean_lifeExp_by_year)"
      ],
      "metadata": {
        "colab": {
          "base_uri": "https://localhost:8080/"
        },
        "id": "JGXyE0L90yuR",
        "outputId": "c53491df-3cf7-4144-87da-8b783f113d4d"
      },
      "execution_count": 81,
      "outputs": [
        {
          "output_type": "stream",
          "name": "stdout",
          "text": [
            "year\n",
            "1952    49.057620\n",
            "1957    51.507401\n",
            "1962    53.609249\n",
            "1967    55.678290\n",
            "1972    57.647386\n",
            "1977    59.570157\n",
            "1982    61.533197\n",
            "1987    63.212613\n",
            "1992    64.160338\n",
            "1997    65.014676\n",
            "2002    65.694923\n",
            "2007    67.007423\n",
            "Name: lifeExp, dtype: float64\n"
          ]
        }
      ]
    },
    {
      "cell_type": "code",
      "source": [
        "# 6. 연도 지역별로 그룹화하여 한 번에 계산하기"
      ],
      "metadata": {
        "id": "PB4rozh41WxC"
      },
      "execution_count": null,
      "outputs": []
    },
    {
      "cell_type": "code",
      "source": [
        "multi_group_year = df.groupby(['year','continent'])[['lifeExp','gdpPercap']].mean()"
      ],
      "metadata": {
        "id": "Ve0f-RxM01QB"
      },
      "execution_count": 82,
      "outputs": []
    },
    {
      "cell_type": "code",
      "source": [
        "print(multi_group_year)"
      ],
      "metadata": {
        "colab": {
          "base_uri": "https://localhost:8080/"
        },
        "id": "c6SP7zdj1GBB",
        "outputId": "0ce50486-76fa-41a7-8930-f26f7fc7c3de"
      },
      "execution_count": 83,
      "outputs": [
        {
          "output_type": "stream",
          "name": "stdout",
          "text": [
            "                  lifeExp     gdpPercap\n",
            "year continent                         \n",
            "1952 Africa     39.135500   1252.572466\n",
            "     Americas   53.279840   4079.062552\n",
            "     Asia       46.314394   5195.484004\n",
            "     Europe     64.408500   5661.057435\n",
            "     Oceania    69.255000  10298.085650\n",
            "1957 Africa     41.266346   1385.236062\n",
            "     Americas   55.960280   4616.043733\n",
            "     Asia       49.318544   5787.732940\n",
            "     Europe     66.703067   6963.012816\n",
            "     Oceania    70.295000  11598.522455\n",
            "1962 Africa     43.319442   1598.078825\n",
            "     Americas   58.398760   4901.541870\n",
            "     Asia       51.563223   5729.369625\n",
            "     Europe     68.539233   8365.486814\n",
            "     Oceania    71.085000  12696.452430\n",
            "1967 Africa     45.334538   2050.363801\n",
            "     Americas   60.410920   5668.253496\n",
            "     Asia       54.663640   5971.173374\n",
            "     Europe     69.737600  10143.823757\n",
            "     Oceania    71.310000  14495.021790\n",
            "1972 Africa     47.450942   2339.615674\n",
            "     Americas   62.394920   6491.334139\n",
            "     Asia       57.319269   8187.468699\n",
            "     Europe     70.775033  12479.575246\n",
            "     Oceania    71.910000  16417.333380\n",
            "1977 Africa     49.580423   2585.938508\n",
            "     Americas   64.391560   7352.007126\n",
            "     Asia       59.610556   7791.314020\n",
            "     Europe     71.937767  14283.979110\n",
            "     Oceania    72.855000  17283.957605\n",
            "1982 Africa     51.592865   2481.592960\n",
            "     Americas   66.228840   7506.737088\n",
            "     Asia       62.617939   7434.135157\n",
            "     Europe     72.806400  15617.896551\n",
            "     Oceania    74.290000  18554.709840\n",
            "1987 Africa     53.344788   2282.668991\n",
            "     Americas   68.090720   7793.400261\n",
            "     Asia       64.851182   7608.226508\n",
            "     Europe     73.642167  17214.310727\n",
            "     Oceania    75.320000  20448.040160\n",
            "1992 Africa     53.629577   2281.810333\n",
            "     Americas   69.568360   8044.934406\n",
            "     Asia       66.537212   8639.690248\n",
            "     Europe     74.440100  17061.568084\n",
            "     Oceania    76.945000  20894.045885\n",
            "1997 Africa     53.598269   2378.759555\n",
            "     Americas   71.150480   8889.300863\n",
            "     Asia       68.020515   9834.093295\n",
            "     Europe     75.505167  19076.781802\n",
            "     Oceania    78.190000  24024.175170\n",
            "2002 Africa     53.325231   2599.385159\n",
            "     Americas   72.422040   9287.677107\n",
            "     Asia       69.233879  10174.090397\n",
            "     Europe     76.700600  21711.732422\n",
            "     Oceania    79.740000  26938.778040\n",
            "2007 Africa     54.806038   3089.032605\n",
            "     Americas   73.608120  11003.031625\n",
            "     Asia       70.728485  12473.026870\n",
            "     Europe     77.648600  25054.481636\n",
            "     Oceania    80.719500  29810.188275\n"
          ]
        }
      ]
    },
    {
      "cell_type": "code",
      "source": [
        "# 7. 그룹화한 데이터 개수 세기"
      ],
      "metadata": {
        "id": "717NnZK11Irk"
      },
      "execution_count": 85,
      "outputs": []
    },
    {
      "cell_type": "code",
      "source": [
        "print(df.groupby('continent')['country'].nunique())"
      ],
      "metadata": {
        "colab": {
          "base_uri": "https://localhost:8080/"
        },
        "id": "0jScqPkA1crM",
        "outputId": "63df1729-e84e-4b8b-c65c-c767fa39a48b"
      },
      "execution_count": 86,
      "outputs": [
        {
          "output_type": "stream",
          "name": "stdout",
          "text": [
            "continent\n",
            "Africa      52\n",
            "Americas    25\n",
            "Asia        33\n",
            "Europe      30\n",
            "Oceania      2\n",
            "Name: country, dtype: int64\n"
          ]
        }
      ]
    },
    {
      "cell_type": "markdown",
      "source": [
        "# 2.4 그래프 그리기"
      ],
      "metadata": {
        "id": "sqEp2Q-X1qXA"
      }
    },
    {
      "cell_type": "code",
      "source": [
        "# 1. 그래프와 연관된 라이브러리 불러오기\n",
        "#matplotlib.inline\n",
        "import matplotlib.pyplot as plt"
      ],
      "metadata": {
        "id": "I6kcE8Px1mZC"
      },
      "execution_count": 89,
      "outputs": []
    },
    {
      "cell_type": "code",
      "source": [
        "# 2. 그룹화하기\n",
        "global_yearly_life_expectancy = df.groupby('year')['lifeExp'].mean()\n",
        "print(global_yearly_life_expectancy)"
      ],
      "metadata": {
        "colab": {
          "base_uri": "https://localhost:8080/"
        },
        "id": "uwZuw6Fl6NLD",
        "outputId": "491b330c-74e3-4173-dca3-4f603a5ba660"
      },
      "execution_count": 90,
      "outputs": [
        {
          "output_type": "stream",
          "name": "stdout",
          "text": [
            "year\n",
            "1952    49.057620\n",
            "1957    51.507401\n",
            "1962    53.609249\n",
            "1967    55.678290\n",
            "1972    57.647386\n",
            "1977    59.570157\n",
            "1982    61.533197\n",
            "1987    63.212613\n",
            "1992    64.160338\n",
            "1997    65.014676\n",
            "2002    65.694923\n",
            "2007    67.007423\n",
            "Name: lifeExp, dtype: float64\n"
          ]
        }
      ]
    },
    {
      "cell_type": "code",
      "source": [
        "# 그래프 그리기\n",
        "global_yearly_life_expectancy.plot()"
      ],
      "metadata": {
        "colab": {
          "base_uri": "https://localhost:8080/",
          "height": 298
        },
        "id": "amGI7d6X6gWD",
        "outputId": "69e2094e-028f-4882-88ec-7ce00b4260dc"
      },
      "execution_count": 92,
      "outputs": [
        {
          "output_type": "execute_result",
          "data": {
            "text/plain": [
              "<matplotlib.axes._subplots.AxesSubplot at 0x7fa936ce03d0>"
            ]
          },
          "metadata": {},
          "execution_count": 92
        },
        {
          "output_type": "display_data",
          "data": {
            "text/plain": [
              "<Figure size 432x288 with 1 Axes>"
            ],
            "image/png": "[encoded data removed]"
          },
          "metadata": {
            "needs_background": "light"
          }
        }
      ]
    },
    {
      "cell_type": "code",
      "source": [
        ""
      ],
      "metadata": {
        "id": "AhTEtjDZ6kz9"
      },
      "execution_count": null,
      "outputs": []
    }
  ]
}